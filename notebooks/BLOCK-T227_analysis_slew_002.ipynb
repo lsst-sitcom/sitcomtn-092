{
 "cells": [
  {
   "cell_type": "markdown",
   "metadata": {},
   "source": [
    "# BLOCK-T227 Dynamic Tests Analysis"
   ]
  },
  {
   "cell_type": "code",
   "execution_count": 60,
   "metadata": {
    "execution": {
     "iopub.execute_input": "2024-11-08T18:12:12.687891Z",
     "iopub.status.busy": "2024-11-08T18:12:12.687306Z",
     "iopub.status.idle": "2024-11-08T18:12:12.727935Z",
     "shell.execute_reply": "2024-11-08T18:12:12.727540Z",
     "shell.execute_reply.started": "2024-11-08T18:12:12.687874Z"
    }
   },
   "outputs": [],
   "source": [
    "## Execution for 1%\n",
    "# block_id = \"BLOCK-T227\"\n",
    "# day_obs = 20241026\n",
    "\n",
    "## Execution for 2%\n",
    "block_id = \"BLOCK-T227\"\n",
    "day_obs = 20241107"
   ]
  },
  {
   "cell_type": "code",
   "execution_count": 61,
   "metadata": {
    "execution": {
     "iopub.execute_input": "2024-11-08T18:12:13.083977Z",
     "iopub.status.busy": "2024-11-08T18:12:13.083418Z",
     "iopub.status.idle": "2024-11-08T18:12:13.862773Z",
     "shell.execute_reply": "2024-11-08T18:12:13.862302Z",
     "shell.execute_reply.started": "2024-11-08T18:12:13.083962Z"
    }
   },
   "outputs": [
    {
     "name": "stdout",
     "output_type": "stream",
     "text": [
      "The autoreload extension is already loaded. To reload it, use:\n",
      "  %reload_ext autoreload\n"
     ]
    }
   ],
   "source": [
    "%load_ext autoreload\n",
    "%autoreload 2\n",
    "\n",
    "import matplotlib.pyplot as plt\n",
    "import numpy as np\n",
    "import os\n",
    "import pandas as pd\n",
    "import re\n",
    "\n",
    "from astropy.time import Time\n",
    "from astropy import units as u\n",
    "from datetime import datetime\n",
    "\n",
    "from lsst.summit.utils.blockUtils import BlockParser\n",
    "from lsst.summit.utils.efdUtils import getDayObsStartTime, makeEfdClient\n",
    "from lsst.summit.utils.tmaUtils import TMAEvent, TMAEventMaker, TMAState\n",
    "\n",
    "import BLOCK_T227_utils as block\n",
    "\n",
    "# Create a client to access the Engineering Facility Database\n",
    "efd_client = makeEfdClient()\n",
    "\n",
    "# Create an object that mines TMA Slew Events\n",
    "event_maker = TMAEventMaker()"
   ]
  },
  {
   "cell_type": "code",
   "execution_count": 62,
   "metadata": {
    "execution": {
     "iopub.execute_input": "2024-11-08T18:12:13.864065Z",
     "iopub.status.busy": "2024-11-08T18:12:13.863697Z",
     "iopub.status.idle": "2024-11-08T18:12:13.908485Z",
     "shell.execute_reply": "2024-11-08T18:12:13.908081Z",
     "shell.execute_reply.started": "2024-11-08T18:12:13.864046Z"
    }
   },
   "outputs": [
    {
     "name": "stdout",
     "output_type": "stream",
     "text": [
      "\n",
      "Query data for 20241107\n",
      "  starts at 2024-11-07T12:00:00.000 and\n",
      "  ends at 2024-11-08T12:00:00.000\n",
      "\n"
     ]
    }
   ],
   "source": [
    "day_obs = int(day_obs)\n",
    "start_time = getDayObsStartTime(day_obs)\n",
    "end_time = start_time + 1 * u.day\n",
    "\n",
    "print(\n",
    "    f\"\\nQuery data for {day_obs}\"\n",
    "    f\"\\n  starts at {start_time.isot} and\"\n",
    "    f\"\\n  ends at {end_time.isot}\\n\"\n",
    ")"
   ]
  },
  {
   "cell_type": "markdown",
   "metadata": {},
   "source": [
    "## Querying data\n",
    "\n",
    "I tottally forgot that a [Script] will not publish metadata.  \n",
    "The only way we can have BLOCK metadata is by running BLOCKs via Scheduler.  \n",
    "Now what? Meh... Let's work with timestamps.  \n",
    "\n",
    "[Script]: https://ts-xml.lsst.io/sal_interfaces/Script.html"
   ]
  },
  {
   "cell_type": "code",
   "execution_count": 63,
   "metadata": {
    "execution": {
     "iopub.execute_input": "2024-11-08T18:12:14.395747Z",
     "iopub.status.busy": "2024-11-08T18:12:14.395549Z",
     "iopub.status.idle": "2024-11-08T18:12:14.434311Z",
     "shell.execute_reply": "2024-11-08T18:12:14.433934Z",
     "shell.execute_reply.started": "2024-11-08T18:12:14.395731Z"
    }
   },
   "outputs": [],
   "source": [
    "# From OLE\n",
    "start_time = Time(\"2024-11-08T06:12:09.475436\")\n",
    "end_time = Time(\"2024-11-08T06:50:45.025632\")"
   ]
  },
  {
   "cell_type": "markdown",
   "metadata": {},
   "source": [
    "\n",
    "   \n",
    "The cell bellow will query all the TMAEvents.  \n",
    "The easiest way I found to query the data associated with this test was to query everything and filter later. "
   ]
  },
  {
   "cell_type": "code",
   "execution_count": 64,
   "metadata": {
    "execution": {
     "iopub.execute_input": "2024-11-08T18:12:15.087703Z",
     "iopub.status.busy": "2024-11-08T18:12:15.087322Z",
     "iopub.status.idle": "2024-11-08T18:12:15.368697Z",
     "shell.execute_reply": "2024-11-08T18:12:15.368361Z",
     "shell.execute_reply.started": "2024-11-08T18:12:15.087686Z"
    }
   },
   "outputs": [
    {
     "data": {
      "text/html": [
       "<pre style=\"margin: 0.1em;\n",
       "padding-left: 0.25em;\n",
       "border-left-style: solid;\n",
       "font-family: var(--jp-code-font-family);\n",
       "font-size: var(--jp-code-font-size);\n",
       "line-height: var(--jp-code-line-height);\n",
       "\"><span style=\"color: var(--jp-warn-color2)\">lsst.summit.utils.tmaUtils</span> <span style=\"color: var(--jp-info-color0)\">INFO</span>: Retrieving mount data for 20241107 from the EFD</pre>"
      ],
      "text/plain": [
       "<IPython.core.display.HTML object>"
      ]
     },
     "metadata": {},
     "output_type": "display_data"
    }
   ],
   "source": [
    "events = event_maker.getEvents(day_obs)"
   ]
  },
  {
   "cell_type": "markdown",
   "metadata": {},
   "source": [
    "Alright, now we can filter our slew events using the timestamps above. "
   ]
  },
  {
   "cell_type": "code",
   "execution_count": 65,
   "metadata": {
    "execution": {
     "iopub.execute_input": "2024-11-08T18:12:15.715592Z",
     "iopub.status.busy": "2024-11-08T18:12:15.715201Z",
     "iopub.status.idle": "2024-11-08T18:12:15.761851Z",
     "shell.execute_reply": "2024-11-08T18:12:15.761365Z",
     "shell.execute_reply.started": "2024-11-08T18:12:15.715578Z"
    }
   },
   "outputs": [
    {
     "name": "stdout",
     "output_type": "stream",
     "text": [
      "Found 17 TMA Slew Events\n"
     ]
    }
   ],
   "source": [
    "# We are working with lists \n",
    "mask_begin = np.array([evt.begin >= start_time for evt in events])\n",
    "mask_end = np.array([evt.end <= end_time for evt in events])\n",
    "mask = mask_begin & mask_end\n",
    "\n",
    "events = np.array(events)\n",
    "filtered_events = events[mask]\n",
    "\n",
    "print(f\"Found {filtered_events.size} TMA Slew Events\")"
   ]
  },
  {
   "cell_type": "markdown",
   "metadata": {},
   "source": [
    "Now we query the measured forces on the hardpoints during all of these TMA events.   \n",
    "We are interested in the minimum and maximum values they can reach. "
   ]
  },
  {
   "cell_type": "code",
   "execution_count": 66,
   "metadata": {
    "execution": {
     "iopub.execute_input": "2024-11-08T18:12:16.482373Z",
     "iopub.status.busy": "2024-11-08T18:12:16.482068Z",
     "iopub.status.idle": "2024-11-08T18:12:18.074725Z",
     "shell.execute_reply": "2024-11-08T18:12:18.074316Z",
     "shell.execute_reply.started": "2024-11-08T18:12:16.482360Z"
    }
   },
   "outputs": [],
   "source": [
    "df_hp_forces = block.get_hp_minmax_forces(efd_client, filtered_events, verbose=False)"
   ]
  },
  {
   "cell_type": "code",
   "execution_count": 67,
   "metadata": {
    "execution": {
     "iopub.execute_input": "2024-11-08T18:12:18.075272Z",
     "iopub.status.busy": "2024-11-08T18:12:18.075149Z",
     "iopub.status.idle": "2024-11-08T18:12:18.115931Z",
     "shell.execute_reply": "2024-11-08T18:12:18.115511Z",
     "shell.execute_reply.started": "2024-11-08T18:12:18.075261Z"
    }
   },
   "outputs": [
    {
     "data": {
      "text/html": [
       "<div>\n",
       "<style scoped>\n",
       "    .dataframe tbody tr th:only-of-type {\n",
       "        vertical-align: middle;\n",
       "    }\n",
       "\n",
       "    .dataframe tbody tr th {\n",
       "        vertical-align: top;\n",
       "    }\n",
       "\n",
       "    .dataframe thead th {\n",
       "        text-align: right;\n",
       "    }\n",
       "</style>\n",
       "<table border=\"1\" class=\"dataframe\">\n",
       "  <thead>\n",
       "    <tr style=\"text-align: right;\">\n",
       "      <th></th>\n",
       "      <th>seq_num</th>\n",
       "      <th>delta_az</th>\n",
       "      <th>delta_el</th>\n",
       "      <th>min_forces</th>\n",
       "      <th>max_forces</th>\n",
       "    </tr>\n",
       "  </thead>\n",
       "  <tbody>\n",
       "    <tr>\n",
       "      <th>0</th>\n",
       "      <td>80</td>\n",
       "      <td>91.0</td>\n",
       "      <td>0.0</td>\n",
       "      <td>-85.0</td>\n",
       "      <td>66.0</td>\n",
       "    </tr>\n",
       "    <tr>\n",
       "      <th>1</th>\n",
       "      <td>81</td>\n",
       "      <td>0.0</td>\n",
       "      <td>12.0</td>\n",
       "      <td>-39.0</td>\n",
       "      <td>171.0</td>\n",
       "    </tr>\n",
       "    <tr>\n",
       "      <th>2</th>\n",
       "      <td>82</td>\n",
       "      <td>-0.0</td>\n",
       "      <td>-12.0</td>\n",
       "      <td>-187.0</td>\n",
       "      <td>59.0</td>\n",
       "    </tr>\n",
       "    <tr>\n",
       "      <th>3</th>\n",
       "      <td>83</td>\n",
       "      <td>24.0</td>\n",
       "      <td>-0.0</td>\n",
       "      <td>-66.0</td>\n",
       "      <td>81.0</td>\n",
       "    </tr>\n",
       "    <tr>\n",
       "      <th>4</th>\n",
       "      <td>84</td>\n",
       "      <td>-24.0</td>\n",
       "      <td>0.0</td>\n",
       "      <td>-70.0</td>\n",
       "      <td>76.0</td>\n",
       "    </tr>\n",
       "    <tr>\n",
       "      <th>5</th>\n",
       "      <td>85</td>\n",
       "      <td>0.0</td>\n",
       "      <td>3.0</td>\n",
       "      <td>-37.0</td>\n",
       "      <td>176.0</td>\n",
       "    </tr>\n",
       "    <tr>\n",
       "      <th>6</th>\n",
       "      <td>86</td>\n",
       "      <td>0.0</td>\n",
       "      <td>-3.0</td>\n",
       "      <td>-184.0</td>\n",
       "      <td>58.0</td>\n",
       "    </tr>\n",
       "    <tr>\n",
       "      <th>7</th>\n",
       "      <td>87</td>\n",
       "      <td>3.0</td>\n",
       "      <td>-0.0</td>\n",
       "      <td>-69.0</td>\n",
       "      <td>82.0</td>\n",
       "    </tr>\n",
       "    <tr>\n",
       "      <th>8</th>\n",
       "      <td>88</td>\n",
       "      <td>-3.0</td>\n",
       "      <td>0.0</td>\n",
       "      <td>-77.0</td>\n",
       "      <td>77.0</td>\n",
       "    </tr>\n",
       "    <tr>\n",
       "      <th>9</th>\n",
       "      <td>89</td>\n",
       "      <td>8.0</td>\n",
       "      <td>8.0</td>\n",
       "      <td>-98.0</td>\n",
       "      <td>180.0</td>\n",
       "    </tr>\n",
       "    <tr>\n",
       "      <th>10</th>\n",
       "      <td>90</td>\n",
       "      <td>-8.0</td>\n",
       "      <td>8.0</td>\n",
       "      <td>-78.0</td>\n",
       "      <td>183.0</td>\n",
       "    </tr>\n",
       "    <tr>\n",
       "      <th>11</th>\n",
       "      <td>91</td>\n",
       "      <td>-8.0</td>\n",
       "      <td>-8.0</td>\n",
       "      <td>-177.0</td>\n",
       "      <td>102.0</td>\n",
       "    </tr>\n",
       "    <tr>\n",
       "      <th>12</th>\n",
       "      <td>92</td>\n",
       "      <td>8.0</td>\n",
       "      <td>-8.0</td>\n",
       "      <td>-188.0</td>\n",
       "      <td>110.0</td>\n",
       "    </tr>\n",
       "    <tr>\n",
       "      <th>13</th>\n",
       "      <td>93</td>\n",
       "      <td>2.0</td>\n",
       "      <td>2.0</td>\n",
       "      <td>-99.0</td>\n",
       "      <td>180.0</td>\n",
       "    </tr>\n",
       "    <tr>\n",
       "      <th>14</th>\n",
       "      <td>94</td>\n",
       "      <td>-2.0</td>\n",
       "      <td>2.0</td>\n",
       "      <td>-76.0</td>\n",
       "      <td>180.0</td>\n",
       "    </tr>\n",
       "    <tr>\n",
       "      <th>15</th>\n",
       "      <td>95</td>\n",
       "      <td>-2.0</td>\n",
       "      <td>-2.0</td>\n",
       "      <td>-196.0</td>\n",
       "      <td>123.0</td>\n",
       "    </tr>\n",
       "    <tr>\n",
       "      <th>16</th>\n",
       "      <td>96</td>\n",
       "      <td>2.0</td>\n",
       "      <td>-2.0</td>\n",
       "      <td>-189.0</td>\n",
       "      <td>101.0</td>\n",
       "    </tr>\n",
       "  </tbody>\n",
       "</table>\n",
       "</div>"
      ],
      "text/plain": [
       "    seq_num  delta_az  delta_el  min_forces  max_forces\n",
       "0        80      91.0       0.0       -85.0        66.0\n",
       "1        81       0.0      12.0       -39.0       171.0\n",
       "2        82      -0.0     -12.0      -187.0        59.0\n",
       "3        83      24.0      -0.0       -66.0        81.0\n",
       "4        84     -24.0       0.0       -70.0        76.0\n",
       "5        85       0.0       3.0       -37.0       176.0\n",
       "6        86       0.0      -3.0      -184.0        58.0\n",
       "7        87       3.0      -0.0       -69.0        82.0\n",
       "8        88      -3.0       0.0       -77.0        77.0\n",
       "9        89       8.0       8.0       -98.0       180.0\n",
       "10       90      -8.0       8.0       -78.0       183.0\n",
       "11       91      -8.0      -8.0      -177.0       102.0\n",
       "12       92       8.0      -8.0      -188.0       110.0\n",
       "13       93       2.0       2.0       -99.0       180.0\n",
       "14       94      -2.0       2.0       -76.0       180.0\n",
       "15       95      -2.0      -2.0      -196.0       123.0\n",
       "16       96       2.0      -2.0      -189.0       101.0"
      ]
     },
     "execution_count": 67,
     "metadata": {},
     "output_type": "execute_result"
    }
   ],
   "source": [
    "df_hp_forces.round()"
   ]
  },
  {
   "cell_type": "markdown",
   "metadata": {},
   "source": [
    "Alright, those values make sense. Now let's plot the histogram. There is not much data. But we should see something. "
   ]
  },
  {
   "cell_type": "code",
   "execution_count": 68,
   "metadata": {
    "execution": {
     "iopub.execute_input": "2024-11-08T18:12:18.116571Z",
     "iopub.status.busy": "2024-11-08T18:12:18.116435Z",
     "iopub.status.idle": "2024-11-08T18:12:18.563235Z",
     "shell.execute_reply": "2024-11-08T18:12:18.562833Z",
     "shell.execute_reply.started": "2024-11-08T18:12:18.116560Z"
    }
   },
   "outputs": [
    {
     "data": {
      "image/png": "[encoded data removed]",
      "text/plain": [
       "<Figure size 1000x500 with 2 Axes>"
      ]
     },
     "metadata": {},
     "output_type": "display_data"
    }
   ],
   "source": [
    "%matplotlib inline \n",
    "block.plot_histogram_hp_minmax_forces(df_hp_forces, day_obs)"
   ]
  },
  {
   "cell_type": "code",
   "execution_count": null,
   "metadata": {},
   "outputs": [],
   "source": []
  }
 ],
 "metadata": {
  "kernelspec": {
   "display_name": "LSST",
   "language": "python",
   "name": "lsst"
  },
  "language_info": {
   "codemirror_mode": {
    "name": "ipython",
    "version": 3
   },
   "file_extension": ".py",
   "mimetype": "text/x-python",
   "name": "python",
   "nbconvert_exporter": "python",
   "pygments_lexer": "ipython3",
   "version": "3.11.9"
  }
 },
 "nbformat": 4,
 "nbformat_minor": 4
}
