{
 "cells": [
  {
   "cell_type": "markdown",
   "metadata": {},
   "source": [
    "# BLOCK-T227 Dynamic Tests Analysis"
   ]
  },
  {
   "cell_type": "code",
   "execution_count": 1,
   "metadata": {
    "execution": {
     "iopub.execute_input": "2024-11-08T18:11:47.637553Z",
     "iopub.status.busy": "2024-11-08T18:11:47.637274Z",
     "iopub.status.idle": "2024-11-08T18:11:47.639349Z",
     "shell.execute_reply": "2024-11-08T18:11:47.639026Z",
     "shell.execute_reply.started": "2024-11-08T18:11:47.637539Z"
    }
   },
   "outputs": [],
   "source": [
    "block_id = \"BLOCK-T227\"\n",
    "day_obs = 20241026"
   ]
  },
  {
   "cell_type": "code",
   "execution_count": 2,
   "metadata": {
    "execution": {
     "iopub.execute_input": "2024-11-08T18:11:48.583065Z",
     "iopub.status.busy": "2024-11-08T18:11:48.582745Z",
     "iopub.status.idle": "2024-11-08T18:11:54.726725Z",
     "shell.execute_reply": "2024-11-08T18:11:54.726181Z",
     "shell.execute_reply.started": "2024-11-08T18:11:48.583046Z"
    }
   },
   "outputs": [],
   "source": [
    "%load_ext autoreload\n",
    "%autoreload 2\n",
    "\n",
    "import matplotlib.pyplot as plt\n",
    "import numpy as np\n",
    "import os\n",
    "import pandas as pd\n",
    "import re\n",
    "\n",
    "from astropy.time import Time\n",
    "from astropy import units as u\n",
    "from datetime import datetime\n",
    "\n",
    "from lsst.summit.utils.blockUtils import BlockParser\n",
    "from lsst.summit.utils.efdUtils import getDayObsStartTime, makeEfdClient\n",
    "from lsst.summit.utils.tmaUtils import TMAEvent, TMAEventMaker, TMAState\n",
    "\n",
    "import BLOCK_T227_utils as block\n",
    "\n",
    "# Create a client to access the Engineering Facility Database\n",
    "efd_client = makeEfdClient()\n",
    "\n",
    "# Create an object that mines TMA Slew Events\n",
    "event_maker = TMAEventMaker()"
   ]
  },
  {
   "cell_type": "code",
   "execution_count": 3,
   "metadata": {
    "execution": {
     "iopub.execute_input": "2024-11-08T18:11:54.728012Z",
     "iopub.status.busy": "2024-11-08T18:11:54.727487Z",
     "iopub.status.idle": "2024-11-08T18:11:54.768304Z",
     "shell.execute_reply": "2024-11-08T18:11:54.767910Z",
     "shell.execute_reply.started": "2024-11-08T18:11:54.727996Z"
    }
   },
   "outputs": [
    {
     "name": "stdout",
     "output_type": "stream",
     "text": [
      "\n",
      "Query data for 20241026\n",
      "  starts at 2024-10-26T12:00:00.000 and\n",
      "  ends at 2024-10-27T12:00:00.000\n",
      "\n"
     ]
    }
   ],
   "source": [
    "day_obs = int(day_obs)\n",
    "start_time = getDayObsStartTime(day_obs)\n",
    "end_time = start_time + 1 * u.day\n",
    "\n",
    "print(\n",
    "    f\"\\nQuery data for {day_obs}\"\n",
    "    f\"\\n  starts at {start_time.isot} and\"\n",
    "    f\"\\n  ends at {end_time.isot}\\n\"\n",
    ")"
   ]
  },
  {
   "cell_type": "markdown",
   "metadata": {},
   "source": [
    "## Querying data\n",
    "\n",
    "Here I am trying to query the data based on information stored in the EFD. I am assuming that I do not have any information other than the test case id and the execution date. "
   ]
  },
  {
   "cell_type": "code",
   "execution_count": 4,
   "metadata": {
    "execution": {
     "iopub.execute_input": "2024-11-08T18:11:55.445575Z",
     "iopub.status.busy": "2024-11-08T18:11:55.445300Z",
     "iopub.status.idle": "2024-11-08T18:11:55.530149Z",
     "shell.execute_reply": "2024-11-08T18:11:55.529690Z",
     "shell.execute_reply.started": "2024-11-08T18:11:55.445561Z"
    }
   },
   "outputs": [],
   "source": [
    "# Query blocks status\n",
    "df_block_status = block.query_block_status(efd_client, start_time, end_time, block_id)\n",
    "\n",
    "# Select relevant columns\n",
    "df_block_status = df_block_status[[\"id\", \"status\"]]"
   ]
  },
  {
   "cell_type": "code",
   "execution_count": 5,
   "metadata": {
    "execution": {
     "iopub.execute_input": "2024-11-08T18:11:55.809636Z",
     "iopub.status.busy": "2024-11-08T18:11:55.809318Z",
     "iopub.status.idle": "2024-11-08T18:11:55.851925Z",
     "shell.execute_reply": "2024-11-08T18:11:55.851557Z",
     "shell.execute_reply.started": "2024-11-08T18:11:55.809621Z"
    }
   },
   "outputs": [
    {
     "data": {
      "text/html": [
       "<div>\n",
       "<style scoped>\n",
       "    .dataframe tbody tr th:only-of-type {\n",
       "        vertical-align: middle;\n",
       "    }\n",
       "\n",
       "    .dataframe tbody tr th {\n",
       "        vertical-align: top;\n",
       "    }\n",
       "\n",
       "    .dataframe thead th {\n",
       "        text-align: right;\n",
       "    }\n",
       "</style>\n",
       "<table border=\"1\" class=\"dataframe\">\n",
       "  <thead>\n",
       "    <tr style=\"text-align: right;\">\n",
       "      <th></th>\n",
       "      <th>id</th>\n",
       "      <th>status</th>\n",
       "    </tr>\n",
       "  </thead>\n",
       "  <tbody>\n",
       "    <tr>\n",
       "      <th>2024-10-27 07:06:37.934694+00:00</th>\n",
       "      <td>BLOCK-T227</td>\n",
       "      <td>STARTED</td>\n",
       "    </tr>\n",
       "    <tr>\n",
       "      <th>2024-10-27 07:16:07.463834+00:00</th>\n",
       "      <td>BLOCK-T227</td>\n",
       "      <td>STARTED</td>\n",
       "    </tr>\n",
       "    <tr>\n",
       "      <th>2024-10-27 07:48:42.601261+00:00</th>\n",
       "      <td>BLOCK-T227</td>\n",
       "      <td>STARTED</td>\n",
       "    </tr>\n",
       "    <tr>\n",
       "      <th>2024-10-27 07:51:08.578495+00:00</th>\n",
       "      <td>BLOCK-T227</td>\n",
       "      <td>STARTED</td>\n",
       "    </tr>\n",
       "    <tr>\n",
       "      <th>2024-10-27 08:28:22.354645+00:00</th>\n",
       "      <td>BLOCK-T227</td>\n",
       "      <td>STARTED</td>\n",
       "    </tr>\n",
       "    <tr>\n",
       "      <th>2024-10-27 08:55:48.736711+00:00</th>\n",
       "      <td>BLOCK-T227</td>\n",
       "      <td>EXECUTING</td>\n",
       "    </tr>\n",
       "  </tbody>\n",
       "</table>\n",
       "</div>"
      ],
      "text/plain": [
       "                                          id     status\n",
       "2024-10-27 07:06:37.934694+00:00  BLOCK-T227    STARTED\n",
       "2024-10-27 07:16:07.463834+00:00  BLOCK-T227    STARTED\n",
       "2024-10-27 07:48:42.601261+00:00  BLOCK-T227    STARTED\n",
       "2024-10-27 07:51:08.578495+00:00  BLOCK-T227    STARTED\n",
       "2024-10-27 08:28:22.354645+00:00  BLOCK-T227    STARTED\n",
       "2024-10-27 08:55:48.736711+00:00  BLOCK-T227  EXECUTING"
      ]
     },
     "execution_count": 5,
     "metadata": {},
     "output_type": "execute_result"
    }
   ],
   "source": [
    "df_block_status"
   ]
  },
  {
   "cell_type": "markdown",
   "metadata": {},
   "source": [
    "The DataFrame above shows me that the BLOCK started five times. However, there not much more information in it. I ommitted several columns that did not seem useful for this analysis. "
   ]
  },
  {
   "cell_type": "code",
   "execution_count": 6,
   "metadata": {
    "execution": {
     "iopub.execute_input": "2024-11-08T18:11:56.692640Z",
     "iopub.status.busy": "2024-11-08T18:11:56.692360Z",
     "iopub.status.idle": "2024-11-08T18:11:56.806355Z",
     "shell.execute_reply": "2024-11-08T18:11:56.805903Z",
     "shell.execute_reply.started": "2024-11-08T18:11:56.692626Z"
    }
   },
   "outputs": [],
   "source": [
    "# Query script status \n",
    "df_script_status = block.query_script_states(efd_client, start_time, end_time, block_id)\n",
    "\n",
    "# Select most relevant columns\n",
    "df_script_status = df_script_status[[\"blockId\", \"lastCheckpoint\", \"salIndex\", \"state\"]]\n",
    "\n",
    "# Convert `state`, which is an int, into a string from readability\n",
    "df_script_status[\"state_name\"] = df_script_status[\"state\"].apply(block.convert_script_state)\n",
    "\n",
    "# For each `blockId`, drop duplicates to it is easier to read\n",
    "df_script_status = df_script_status.drop_duplicates(subset=[\"blockId\", \"state_name\"])"
   ]
  },
  {
   "cell_type": "code",
   "execution_count": 7,
   "metadata": {
    "execution": {
     "iopub.execute_input": "2024-11-08T18:11:57.098627Z",
     "iopub.status.busy": "2024-11-08T18:11:57.098349Z",
     "iopub.status.idle": "2024-11-08T18:11:57.138785Z",
     "shell.execute_reply": "2024-11-08T18:11:57.138380Z",
     "shell.execute_reply.started": "2024-11-08T18:11:57.098612Z"
    }
   },
   "outputs": [
    {
     "data": {
      "text/html": [
       "<div>\n",
       "<style scoped>\n",
       "    .dataframe tbody tr th:only-of-type {\n",
       "        vertical-align: middle;\n",
       "    }\n",
       "\n",
       "    .dataframe tbody tr th {\n",
       "        vertical-align: top;\n",
       "    }\n",
       "\n",
       "    .dataframe thead th {\n",
       "        text-align: right;\n",
       "    }\n",
       "</style>\n",
       "<table border=\"1\" class=\"dataframe\">\n",
       "  <thead>\n",
       "    <tr style=\"text-align: right;\">\n",
       "      <th></th>\n",
       "      <th>blockId</th>\n",
       "      <th>lastCheckpoint</th>\n",
       "      <th>salIndex</th>\n",
       "      <th>state</th>\n",
       "      <th>state_name</th>\n",
       "    </tr>\n",
       "  </thead>\n",
       "  <tbody>\n",
       "    <tr>\n",
       "      <th>2024-10-27 07:06:47.111542+00:00</th>\n",
       "      <td>BT227_O_20241026_000001</td>\n",
       "      <td></td>\n",
       "      <td>100271</td>\n",
       "      <td>2</td>\n",
       "      <td>CONFIGURED</td>\n",
       "    </tr>\n",
       "    <tr>\n",
       "      <th>2024-10-27 07:06:48.237087+00:00</th>\n",
       "      <td>BT227_O_20241026_000001</td>\n",
       "      <td></td>\n",
       "      <td>100270</td>\n",
       "      <td>3</td>\n",
       "      <td>RUNNING</td>\n",
       "    </tr>\n",
       "    <tr>\n",
       "      <th>2024-10-27 07:06:55.359559+00:00</th>\n",
       "      <td>BT227_O_20241026_000001</td>\n",
       "      <td>None: azel grid 153.0/34.0 1/1</td>\n",
       "      <td>100270</td>\n",
       "      <td>7</td>\n",
       "      <td>FAILING</td>\n",
       "    </tr>\n",
       "    <tr>\n",
       "      <th>2024-10-27 07:07:01.564360+00:00</th>\n",
       "      <td>BT227_O_20241026_000001</td>\n",
       "      <td>None: azel grid 153.0/34.0 1/1</td>\n",
       "      <td>100270</td>\n",
       "      <td>10</td>\n",
       "      <td>FAILED</td>\n",
       "    </tr>\n",
       "    <tr>\n",
       "      <th>2024-10-27 07:16:16.510233+00:00</th>\n",
       "      <td>BT227_O_20241026_000002</td>\n",
       "      <td></td>\n",
       "      <td>100283</td>\n",
       "      <td>2</td>\n",
       "      <td>CONFIGURED</td>\n",
       "    </tr>\n",
       "    <tr>\n",
       "      <th>2024-10-27 07:16:17.552888+00:00</th>\n",
       "      <td>BT227_O_20241026_000002</td>\n",
       "      <td></td>\n",
       "      <td>100282</td>\n",
       "      <td>3</td>\n",
       "      <td>RUNNING</td>\n",
       "    </tr>\n",
       "    <tr>\n",
       "      <th>2024-10-27 07:18:24.598046+00:00</th>\n",
       "      <td>BT227_O_20241026_000002</td>\n",
       "      <td>None: azel grid 153.0/34.0 1/1</td>\n",
       "      <td>100282</td>\n",
       "      <td>7</td>\n",
       "      <td>FAILING</td>\n",
       "    </tr>\n",
       "    <tr>\n",
       "      <th>2024-10-27 07:18:29.516836+00:00</th>\n",
       "      <td>BT227_O_20241026_000002</td>\n",
       "      <td>None: azel grid 153.0/34.0 1/1</td>\n",
       "      <td>100282</td>\n",
       "      <td>10</td>\n",
       "      <td>FAILED</td>\n",
       "    </tr>\n",
       "    <tr>\n",
       "      <th>2024-10-27 07:48:52.082979+00:00</th>\n",
       "      <td>BT227_O_20241026_000003</td>\n",
       "      <td></td>\n",
       "      <td>100297</td>\n",
       "      <td>2</td>\n",
       "      <td>CONFIGURED</td>\n",
       "    </tr>\n",
       "    <tr>\n",
       "      <th>2024-10-27 07:48:52.867050+00:00</th>\n",
       "      <td>BT227_O_20241026_000003</td>\n",
       "      <td></td>\n",
       "      <td>100296</td>\n",
       "      <td>3</td>\n",
       "      <td>RUNNING</td>\n",
       "    </tr>\n",
       "    <tr>\n",
       "      <th>2024-10-27 07:49:00.082397+00:00</th>\n",
       "      <td>BT227_O_20241026_000003</td>\n",
       "      <td>None: azel grid 153.0/34.0 1/1</td>\n",
       "      <td>100296</td>\n",
       "      <td>7</td>\n",
       "      <td>FAILING</td>\n",
       "    </tr>\n",
       "    <tr>\n",
       "      <th>2024-10-27 07:49:05.459209+00:00</th>\n",
       "      <td>BT227_O_20241026_000003</td>\n",
       "      <td>None: azel grid 153.0/34.0 1/1</td>\n",
       "      <td>100296</td>\n",
       "      <td>10</td>\n",
       "      <td>FAILED</td>\n",
       "    </tr>\n",
       "    <tr>\n",
       "      <th>2024-10-27 07:51:17.517153+00:00</th>\n",
       "      <td>BT227_O_20241026_000004</td>\n",
       "      <td></td>\n",
       "      <td>100309</td>\n",
       "      <td>2</td>\n",
       "      <td>CONFIGURED</td>\n",
       "    </tr>\n",
       "    <tr>\n",
       "      <th>2024-10-27 07:51:18.463787+00:00</th>\n",
       "      <td>BT227_O_20241026_000004</td>\n",
       "      <td></td>\n",
       "      <td>100308</td>\n",
       "      <td>3</td>\n",
       "      <td>RUNNING</td>\n",
       "    </tr>\n",
       "    <tr>\n",
       "      <th>2024-10-27 08:06:25.608322+00:00</th>\n",
       "      <td>BT227_O_20241026_000004</td>\n",
       "      <td>None: azel grid 153.0/34.0 1/1</td>\n",
       "      <td>100308</td>\n",
       "      <td>7</td>\n",
       "      <td>FAILING</td>\n",
       "    </tr>\n",
       "    <tr>\n",
       "      <th>2024-10-27 08:06:30.404334+00:00</th>\n",
       "      <td>BT227_O_20241026_000004</td>\n",
       "      <td>None: azel grid 153.0/34.0 1/1</td>\n",
       "      <td>100308</td>\n",
       "      <td>10</td>\n",
       "      <td>FAILED</td>\n",
       "    </tr>\n",
       "    <tr>\n",
       "      <th>2024-10-27 08:28:31.464246+00:00</th>\n",
       "      <td>BT227_O_20241026_000005</td>\n",
       "      <td></td>\n",
       "      <td>100321</td>\n",
       "      <td>2</td>\n",
       "      <td>CONFIGURED</td>\n",
       "    </tr>\n",
       "    <tr>\n",
       "      <th>2024-10-27 08:28:32.518807+00:00</th>\n",
       "      <td>BT227_O_20241026_000005</td>\n",
       "      <td></td>\n",
       "      <td>100320</td>\n",
       "      <td>3</td>\n",
       "      <td>RUNNING</td>\n",
       "    </tr>\n",
       "    <tr>\n",
       "      <th>2024-10-27 08:28:46.631056+00:00</th>\n",
       "      <td>BT227_O_20241026_000005</td>\n",
       "      <td>None: azel grid 34.0/34.0 1/1</td>\n",
       "      <td>100320</td>\n",
       "      <td>5</td>\n",
       "      <td>ENDING</td>\n",
       "    </tr>\n",
       "    <tr>\n",
       "      <th>2024-10-27 08:28:46.632370+00:00</th>\n",
       "      <td>BT227_O_20241026_000005</td>\n",
       "      <td>None: azel grid 34.0/34.0 1/1</td>\n",
       "      <td>100320</td>\n",
       "      <td>8</td>\n",
       "      <td>DONE</td>\n",
       "    </tr>\n",
       "  </tbody>\n",
       "</table>\n",
       "</div>"
      ],
      "text/plain": [
       "                                                  blockId  \\\n",
       "2024-10-27 07:06:47.111542+00:00  BT227_O_20241026_000001   \n",
       "2024-10-27 07:06:48.237087+00:00  BT227_O_20241026_000001   \n",
       "2024-10-27 07:06:55.359559+00:00  BT227_O_20241026_000001   \n",
       "2024-10-27 07:07:01.564360+00:00  BT227_O_20241026_000001   \n",
       "2024-10-27 07:16:16.510233+00:00  BT227_O_20241026_000002   \n",
       "2024-10-27 07:16:17.552888+00:00  BT227_O_20241026_000002   \n",
       "2024-10-27 07:18:24.598046+00:00  BT227_O_20241026_000002   \n",
       "2024-10-27 07:18:29.516836+00:00  BT227_O_20241026_000002   \n",
       "2024-10-27 07:48:52.082979+00:00  BT227_O_20241026_000003   \n",
       "2024-10-27 07:48:52.867050+00:00  BT227_O_20241026_000003   \n",
       "2024-10-27 07:49:00.082397+00:00  BT227_O_20241026_000003   \n",
       "2024-10-27 07:49:05.459209+00:00  BT227_O_20241026_000003   \n",
       "2024-10-27 07:51:17.517153+00:00  BT227_O_20241026_000004   \n",
       "2024-10-27 07:51:18.463787+00:00  BT227_O_20241026_000004   \n",
       "2024-10-27 08:06:25.608322+00:00  BT227_O_20241026_000004   \n",
       "2024-10-27 08:06:30.404334+00:00  BT227_O_20241026_000004   \n",
       "2024-10-27 08:28:31.464246+00:00  BT227_O_20241026_000005   \n",
       "2024-10-27 08:28:32.518807+00:00  BT227_O_20241026_000005   \n",
       "2024-10-27 08:28:46.631056+00:00  BT227_O_20241026_000005   \n",
       "2024-10-27 08:28:46.632370+00:00  BT227_O_20241026_000005   \n",
       "\n",
       "                                                  lastCheckpoint  salIndex  \\\n",
       "2024-10-27 07:06:47.111542+00:00                                    100271   \n",
       "2024-10-27 07:06:48.237087+00:00                                    100270   \n",
       "2024-10-27 07:06:55.359559+00:00  None: azel grid 153.0/34.0 1/1    100270   \n",
       "2024-10-27 07:07:01.564360+00:00  None: azel grid 153.0/34.0 1/1    100270   \n",
       "2024-10-27 07:16:16.510233+00:00                                    100283   \n",
       "2024-10-27 07:16:17.552888+00:00                                    100282   \n",
       "2024-10-27 07:18:24.598046+00:00  None: azel grid 153.0/34.0 1/1    100282   \n",
       "2024-10-27 07:18:29.516836+00:00  None: azel grid 153.0/34.0 1/1    100282   \n",
       "2024-10-27 07:48:52.082979+00:00                                    100297   \n",
       "2024-10-27 07:48:52.867050+00:00                                    100296   \n",
       "2024-10-27 07:49:00.082397+00:00  None: azel grid 153.0/34.0 1/1    100296   \n",
       "2024-10-27 07:49:05.459209+00:00  None: azel grid 153.0/34.0 1/1    100296   \n",
       "2024-10-27 07:51:17.517153+00:00                                    100309   \n",
       "2024-10-27 07:51:18.463787+00:00                                    100308   \n",
       "2024-10-27 08:06:25.608322+00:00  None: azel grid 153.0/34.0 1/1    100308   \n",
       "2024-10-27 08:06:30.404334+00:00  None: azel grid 153.0/34.0 1/1    100308   \n",
       "2024-10-27 08:28:31.464246+00:00                                    100321   \n",
       "2024-10-27 08:28:32.518807+00:00                                    100320   \n",
       "2024-10-27 08:28:46.631056+00:00   None: azel grid 34.0/34.0 1/1    100320   \n",
       "2024-10-27 08:28:46.632370+00:00   None: azel grid 34.0/34.0 1/1    100320   \n",
       "\n",
       "                                  state  state_name  \n",
       "2024-10-27 07:06:47.111542+00:00      2  CONFIGURED  \n",
       "2024-10-27 07:06:48.237087+00:00      3     RUNNING  \n",
       "2024-10-27 07:06:55.359559+00:00      7     FAILING  \n",
       "2024-10-27 07:07:01.564360+00:00     10      FAILED  \n",
       "2024-10-27 07:16:16.510233+00:00      2  CONFIGURED  \n",
       "2024-10-27 07:16:17.552888+00:00      3     RUNNING  \n",
       "2024-10-27 07:18:24.598046+00:00      7     FAILING  \n",
       "2024-10-27 07:18:29.516836+00:00     10      FAILED  \n",
       "2024-10-27 07:48:52.082979+00:00      2  CONFIGURED  \n",
       "2024-10-27 07:48:52.867050+00:00      3     RUNNING  \n",
       "2024-10-27 07:49:00.082397+00:00      7     FAILING  \n",
       "2024-10-27 07:49:05.459209+00:00     10      FAILED  \n",
       "2024-10-27 07:51:17.517153+00:00      2  CONFIGURED  \n",
       "2024-10-27 07:51:18.463787+00:00      3     RUNNING  \n",
       "2024-10-27 08:06:25.608322+00:00      7     FAILING  \n",
       "2024-10-27 08:06:30.404334+00:00     10      FAILED  \n",
       "2024-10-27 08:28:31.464246+00:00      2  CONFIGURED  \n",
       "2024-10-27 08:28:32.518807+00:00      3     RUNNING  \n",
       "2024-10-27 08:28:46.631056+00:00      5      ENDING  \n",
       "2024-10-27 08:28:46.632370+00:00      8        DONE  "
      ]
     },
     "execution_count": 7,
     "metadata": {},
     "output_type": "execute_result"
    }
   ],
   "source": [
    "df_script_status"
   ]
  },
  {
   "cell_type": "markdown",
   "metadata": {},
   "source": [
    "Here I am getting more information. With the DataFrame above I can confirm that the block failed four times before it passed. I can use the table above to investigate with more details why the block execution failed. This is out of the scope of this notebook. However, here are a few queries that we could try if we wanted to investigate more. "
   ]
  },
  {
   "cell_type": "code",
   "execution_count": 8,
   "metadata": {
    "execution": {
     "iopub.execute_input": "2024-11-08T18:11:57.929695Z",
     "iopub.status.busy": "2024-11-08T18:11:57.929418Z",
     "iopub.status.idle": "2024-11-08T18:11:57.991492Z",
     "shell.execute_reply": "2024-11-08T18:11:57.991131Z",
     "shell.execute_reply.started": "2024-11-08T18:11:57.929680Z"
    }
   },
   "outputs": [],
   "source": [
    "# Query Scripts description\n",
    "df_script_description = block.query_script_description(efd_client, start_time, end_time, block_id)\n",
    "\n",
    "# Filter most useful columns\n",
    "df_script_description = df_script_description[[\"classname\", \"description\", \"salIndex\"]]"
   ]
  },
  {
   "cell_type": "code",
   "execution_count": 9,
   "metadata": {
    "execution": {
     "iopub.execute_input": "2024-11-08T18:11:58.261911Z",
     "iopub.status.busy": "2024-11-08T18:11:58.261354Z",
     "iopub.status.idle": "2024-11-08T18:11:58.302412Z",
     "shell.execute_reply": "2024-11-08T18:11:58.302046Z",
     "shell.execute_reply.started": "2024-11-08T18:11:58.261893Z"
    }
   },
   "outputs": [
    {
     "data": {
      "text/html": [
       "<div>\n",
       "<style scoped>\n",
       "    .dataframe tbody tr th:only-of-type {\n",
       "        vertical-align: middle;\n",
       "    }\n",
       "\n",
       "    .dataframe tbody tr th {\n",
       "        vertical-align: top;\n",
       "    }\n",
       "\n",
       "    .dataframe thead th {\n",
       "        text-align: right;\n",
       "    }\n",
       "</style>\n",
       "<table border=\"1\" class=\"dataframe\">\n",
       "  <thead>\n",
       "    <tr style=\"text-align: right;\">\n",
       "      <th></th>\n",
       "      <th>classname</th>\n",
       "      <th>description</th>\n",
       "      <th>salIndex</th>\n",
       "    </tr>\n",
       "  </thead>\n",
       "  <tbody>\n",
       "    <tr>\n",
       "      <th>2024-10-26 15:34:51.197572+00:00</th>\n",
       "      <td>MTSchedulerAddBlock</td>\n",
       "      <td>Load block to the MAIN_TEL Scheduler</td>\n",
       "      <td>100122</td>\n",
       "    </tr>\n",
       "    <tr>\n",
       "      <th>2024-10-26 15:34:59.530994+00:00</th>\n",
       "      <td>CheckHardpoint</td>\n",
       "      <td>Check M1M3 Hardpoint</td>\n",
       "      <td>100123</td>\n",
       "    </tr>\n",
       "    <tr>\n",
       "      <th>2024-10-26 17:04:13.445158+00:00</th>\n",
       "      <td>SetSummaryState</td>\n",
       "      <td>Put CSCs into specified states</td>\n",
       "      <td>100124</td>\n",
       "    </tr>\n",
       "    <tr>\n",
       "      <th>2024-10-26 17:12:37.906339+00:00</th>\n",
       "      <td>MTSchedulerAddBlock</td>\n",
       "      <td>Load block to the MAIN_TEL Scheduler</td>\n",
       "      <td>100125</td>\n",
       "    </tr>\n",
       "    <tr>\n",
       "      <th>2024-10-26 17:12:45.992582+00:00</th>\n",
       "      <td>CheckActuators</td>\n",
       "      <td>Bump Test on M1M3 Actuators</td>\n",
       "      <td>100126</td>\n",
       "    </tr>\n",
       "  </tbody>\n",
       "</table>\n",
       "</div>"
      ],
      "text/plain": [
       "                                            classname  \\\n",
       "2024-10-26 15:34:51.197572+00:00  MTSchedulerAddBlock   \n",
       "2024-10-26 15:34:59.530994+00:00       CheckHardpoint   \n",
       "2024-10-26 17:04:13.445158+00:00      SetSummaryState   \n",
       "2024-10-26 17:12:37.906339+00:00  MTSchedulerAddBlock   \n",
       "2024-10-26 17:12:45.992582+00:00       CheckActuators   \n",
       "\n",
       "                                                           description  \\\n",
       "2024-10-26 15:34:51.197572+00:00  Load block to the MAIN_TEL Scheduler   \n",
       "2024-10-26 15:34:59.530994+00:00                  Check M1M3 Hardpoint   \n",
       "2024-10-26 17:04:13.445158+00:00        Put CSCs into specified states   \n",
       "2024-10-26 17:12:37.906339+00:00  Load block to the MAIN_TEL Scheduler   \n",
       "2024-10-26 17:12:45.992582+00:00           Bump Test on M1M3 Actuators   \n",
       "\n",
       "                                  salIndex  \n",
       "2024-10-26 15:34:51.197572+00:00    100122  \n",
       "2024-10-26 15:34:59.530994+00:00    100123  \n",
       "2024-10-26 17:04:13.445158+00:00    100124  \n",
       "2024-10-26 17:12:37.906339+00:00    100125  \n",
       "2024-10-26 17:12:45.992582+00:00    100126  "
      ]
     },
     "execution_count": 9,
     "metadata": {},
     "output_type": "execute_result"
    }
   ],
   "source": [
    "df_script_description.head()"
   ]
  },
  {
   "cell_type": "markdown",
   "metadata": {},
   "source": [
    "The DataFrame above shows us the name of the script associated with a `salIndex` and its description. This adds some information to what happened during a block execution. No needed for this notebook, but keeping it here for now just for the record. "
   ]
  },
  {
   "cell_type": "code",
   "execution_count": 10,
   "metadata": {
    "execution": {
     "iopub.execute_input": "2024-11-08T18:11:58.997754Z",
     "iopub.status.busy": "2024-11-08T18:11:58.997466Z",
     "iopub.status.idle": "2024-11-08T18:11:59.058446Z",
     "shell.execute_reply": "2024-11-08T18:11:59.058041Z",
     "shell.execute_reply.started": "2024-11-08T18:11:58.997740Z"
    }
   },
   "outputs": [],
   "source": [
    "# Query scripts configuration\n",
    "df_script_configuration = block.query_script_configuration(efd_client, start_time, end_time)\n",
    "\n",
    "# Filter most useful columns \n",
    "df_script_configuration = df_script_configuration[[\"blockId\", \"config\", \"logLevel\", \"salIndex\"]]"
   ]
  },
  {
   "cell_type": "code",
   "execution_count": 11,
   "metadata": {
    "execution": {
     "iopub.execute_input": "2024-11-08T18:11:59.265605Z",
     "iopub.status.busy": "2024-11-08T18:11:59.265259Z",
     "iopub.status.idle": "2024-11-08T18:11:59.305084Z",
     "shell.execute_reply": "2024-11-08T18:11:59.304691Z",
     "shell.execute_reply.started": "2024-11-08T18:11:59.265590Z"
    }
   },
   "outputs": [
    {
     "data": {
      "text/html": [
       "<div>\n",
       "<style scoped>\n",
       "    .dataframe tbody tr th:only-of-type {\n",
       "        vertical-align: middle;\n",
       "    }\n",
       "\n",
       "    .dataframe tbody tr th {\n",
       "        vertical-align: top;\n",
       "    }\n",
       "\n",
       "    .dataframe thead th {\n",
       "        text-align: right;\n",
       "    }\n",
       "</style>\n",
       "<table border=\"1\" class=\"dataframe\">\n",
       "  <thead>\n",
       "    <tr style=\"text-align: right;\">\n",
       "      <th></th>\n",
       "      <th>blockId</th>\n",
       "      <th>config</th>\n",
       "      <th>logLevel</th>\n",
       "      <th>salIndex</th>\n",
       "    </tr>\n",
       "  </thead>\n",
       "  <tbody>\n",
       "    <tr>\n",
       "      <th>2024-10-26 15:34:51.198247+00:00</th>\n",
       "      <td></td>\n",
       "      <td>id: BLOCK-T145</td>\n",
       "      <td>10</td>\n",
       "      <td>100122</td>\n",
       "    </tr>\n",
       "    <tr>\n",
       "      <th>2024-10-26 15:34:59.531484+00:00</th>\n",
       "      <td>BT145_O_20241026_000001</td>\n",
       "      <td>program: BLOCK-T145\\nreason: BLOCK-T145\\n</td>\n",
       "      <td>20</td>\n",
       "      <td>100123</td>\n",
       "    </tr>\n",
       "    <tr>\n",
       "      <th>2024-10-26 17:04:13.445954+00:00</th>\n",
       "      <td></td>\n",
       "      <td>data:\\n- [MTRotator, ENABLED]</td>\n",
       "      <td>10</td>\n",
       "      <td>100124</td>\n",
       "    </tr>\n",
       "    <tr>\n",
       "      <th>2024-10-26 17:12:37.907130+00:00</th>\n",
       "      <td></td>\n",
       "      <td>id: BLOCK-T144</td>\n",
       "      <td>10</td>\n",
       "      <td>100125</td>\n",
       "    </tr>\n",
       "    <tr>\n",
       "      <th>2024-10-26 17:12:45.993099+00:00</th>\n",
       "      <td>BT144_O_20241026_000001</td>\n",
       "      <td>program: BLOCK-T144\\nreason: BLOCK-T144\\n</td>\n",
       "      <td>20</td>\n",
       "      <td>100126</td>\n",
       "    </tr>\n",
       "    <tr>\n",
       "      <th>...</th>\n",
       "      <td>...</td>\n",
       "      <td>...</td>\n",
       "      <td>...</td>\n",
       "      <td>...</td>\n",
       "    </tr>\n",
       "    <tr>\n",
       "      <th>2024-10-27 09:48:52.408066+00:00</th>\n",
       "      <td></td>\n",
       "      <td>component: MTHexapod:1\\ncmd: move\\nparameters:...</td>\n",
       "      <td>10</td>\n",
       "      <td>100358</td>\n",
       "    </tr>\n",
       "    <tr>\n",
       "      <th>2024-10-27 09:49:27.702831+00:00</th>\n",
       "      <td></td>\n",
       "      <td>component: MTHexapod:2\\ncmd: move\\nparameters:...</td>\n",
       "      <td>10</td>\n",
       "      <td>100359</td>\n",
       "    </tr>\n",
       "    <tr>\n",
       "      <th>2024-10-27 09:51:13.686743+00:00</th>\n",
       "      <td></td>\n",
       "      <td></td>\n",
       "      <td>10</td>\n",
       "      <td>100360</td>\n",
       "    </tr>\n",
       "    <tr>\n",
       "      <th>2024-10-27 09:57:33.864854+00:00</th>\n",
       "      <td></td>\n",
       "      <td>component: MTDome\\ncmd: stop\\nparameters:\\n  e...</td>\n",
       "      <td>10</td>\n",
       "      <td>100361</td>\n",
       "    </tr>\n",
       "    <tr>\n",
       "      <th>2024-10-27 09:59:08.704076+00:00</th>\n",
       "      <td></td>\n",
       "      <td>data:\\n- [MTDome, DISABLED]\\n- [MTDomeTrajecto...</td>\n",
       "      <td>10</td>\n",
       "      <td>100362</td>\n",
       "    </tr>\n",
       "  </tbody>\n",
       "</table>\n",
       "<p>407 rows × 4 columns</p>\n",
       "</div>"
      ],
      "text/plain": [
       "                                                  blockId  \\\n",
       "2024-10-26 15:34:51.198247+00:00                            \n",
       "2024-10-26 15:34:59.531484+00:00  BT145_O_20241026_000001   \n",
       "2024-10-26 17:04:13.445954+00:00                            \n",
       "2024-10-26 17:12:37.907130+00:00                            \n",
       "2024-10-26 17:12:45.993099+00:00  BT144_O_20241026_000001   \n",
       "...                                                   ...   \n",
       "2024-10-27 09:48:52.408066+00:00                            \n",
       "2024-10-27 09:49:27.702831+00:00                            \n",
       "2024-10-27 09:51:13.686743+00:00                            \n",
       "2024-10-27 09:57:33.864854+00:00                            \n",
       "2024-10-27 09:59:08.704076+00:00                            \n",
       "\n",
       "                                                                             config  \\\n",
       "2024-10-26 15:34:51.198247+00:00                                     id: BLOCK-T145   \n",
       "2024-10-26 15:34:59.531484+00:00          program: BLOCK-T145\\nreason: BLOCK-T145\\n   \n",
       "2024-10-26 17:04:13.445954+00:00                      data:\\n- [MTRotator, ENABLED]   \n",
       "2024-10-26 17:12:37.907130+00:00                                     id: BLOCK-T144   \n",
       "2024-10-26 17:12:45.993099+00:00          program: BLOCK-T144\\nreason: BLOCK-T144\\n   \n",
       "...                                                                             ...   \n",
       "2024-10-27 09:48:52.408066+00:00  component: MTHexapod:1\\ncmd: move\\nparameters:...   \n",
       "2024-10-27 09:49:27.702831+00:00  component: MTHexapod:2\\ncmd: move\\nparameters:...   \n",
       "2024-10-27 09:51:13.686743+00:00                                                      \n",
       "2024-10-27 09:57:33.864854+00:00  component: MTDome\\ncmd: stop\\nparameters:\\n  e...   \n",
       "2024-10-27 09:59:08.704076+00:00  data:\\n- [MTDome, DISABLED]\\n- [MTDomeTrajecto...   \n",
       "\n",
       "                                  logLevel  salIndex  \n",
       "2024-10-26 15:34:51.198247+00:00        10    100122  \n",
       "2024-10-26 15:34:59.531484+00:00        20    100123  \n",
       "2024-10-26 17:04:13.445954+00:00        10    100124  \n",
       "2024-10-26 17:12:37.907130+00:00        10    100125  \n",
       "2024-10-26 17:12:45.993099+00:00        20    100126  \n",
       "...                                    ...       ...  \n",
       "2024-10-27 09:48:52.408066+00:00        10    100358  \n",
       "2024-10-27 09:49:27.702831+00:00        10    100359  \n",
       "2024-10-27 09:51:13.686743+00:00        10    100360  \n",
       "2024-10-27 09:57:33.864854+00:00        10    100361  \n",
       "2024-10-27 09:59:08.704076+00:00        10    100362  \n",
       "\n",
       "[407 rows x 4 columns]"
      ]
     },
     "execution_count": 11,
     "metadata": {},
     "output_type": "execute_result"
    }
   ],
   "source": [
    "df_script_configuration"
   ]
  },
  {
   "cell_type": "markdown",
   "metadata": {},
   "source": [
    "The configurations might be interesting to check. Especially in the case of using `RunCommand` scripts, which forward commands to the CSCs. \n",
    "\n",
    "However, let's go back to the original purpose of this notebook which is to try to get what are the successful runs of BLOCK-T227. "
   ]
  },
  {
   "cell_type": "code",
   "execution_count": 12,
   "metadata": {
    "execution": {
     "iopub.execute_input": "2024-11-08T18:11:59.934940Z",
     "iopub.status.busy": "2024-11-08T18:11:59.934666Z",
     "iopub.status.idle": "2024-11-08T18:11:59.976053Z",
     "shell.execute_reply": "2024-11-08T18:11:59.975697Z",
     "shell.execute_reply.started": "2024-11-08T18:11:59.934926Z"
    }
   },
   "outputs": [
    {
     "data": {
      "text/html": [
       "<div>\n",
       "<style scoped>\n",
       "    .dataframe tbody tr th:only-of-type {\n",
       "        vertical-align: middle;\n",
       "    }\n",
       "\n",
       "    .dataframe tbody tr th {\n",
       "        vertical-align: top;\n",
       "    }\n",
       "\n",
       "    .dataframe thead th {\n",
       "        text-align: right;\n",
       "    }\n",
       "</style>\n",
       "<table border=\"1\" class=\"dataframe\">\n",
       "  <thead>\n",
       "    <tr style=\"text-align: right;\">\n",
       "      <th></th>\n",
       "      <th>blockId</th>\n",
       "      <th>lastCheckpoint</th>\n",
       "      <th>salIndex</th>\n",
       "      <th>state</th>\n",
       "      <th>state_name</th>\n",
       "    </tr>\n",
       "  </thead>\n",
       "  <tbody>\n",
       "    <tr>\n",
       "      <th>2024-10-27 08:28:31.464246+00:00</th>\n",
       "      <td>BT227_O_20241026_000005</td>\n",
       "      <td></td>\n",
       "      <td>100321</td>\n",
       "      <td>2</td>\n",
       "      <td>CONFIGURED</td>\n",
       "    </tr>\n",
       "    <tr>\n",
       "      <th>2024-10-27 08:28:32.518807+00:00</th>\n",
       "      <td>BT227_O_20241026_000005</td>\n",
       "      <td></td>\n",
       "      <td>100320</td>\n",
       "      <td>3</td>\n",
       "      <td>RUNNING</td>\n",
       "    </tr>\n",
       "    <tr>\n",
       "      <th>2024-10-27 08:28:46.631056+00:00</th>\n",
       "      <td>BT227_O_20241026_000005</td>\n",
       "      <td>None: azel grid 34.0/34.0 1/1</td>\n",
       "      <td>100320</td>\n",
       "      <td>5</td>\n",
       "      <td>ENDING</td>\n",
       "    </tr>\n",
       "    <tr>\n",
       "      <th>2024-10-27 08:28:46.632370+00:00</th>\n",
       "      <td>BT227_O_20241026_000005</td>\n",
       "      <td>None: azel grid 34.0/34.0 1/1</td>\n",
       "      <td>100320</td>\n",
       "      <td>8</td>\n",
       "      <td>DONE</td>\n",
       "    </tr>\n",
       "  </tbody>\n",
       "</table>\n",
       "</div>"
      ],
      "text/plain": [
       "                                                  blockId  \\\n",
       "2024-10-27 08:28:31.464246+00:00  BT227_O_20241026_000005   \n",
       "2024-10-27 08:28:32.518807+00:00  BT227_O_20241026_000005   \n",
       "2024-10-27 08:28:46.631056+00:00  BT227_O_20241026_000005   \n",
       "2024-10-27 08:28:46.632370+00:00  BT227_O_20241026_000005   \n",
       "\n",
       "                                                 lastCheckpoint  salIndex  \\\n",
       "2024-10-27 08:28:31.464246+00:00                                   100321   \n",
       "2024-10-27 08:28:32.518807+00:00                                   100320   \n",
       "2024-10-27 08:28:46.631056+00:00  None: azel grid 34.0/34.0 1/1    100320   \n",
       "2024-10-27 08:28:46.632370+00:00  None: azel grid 34.0/34.0 1/1    100320   \n",
       "\n",
       "                                  state  state_name  \n",
       "2024-10-27 08:28:31.464246+00:00      2  CONFIGURED  \n",
       "2024-10-27 08:28:32.518807+00:00      3     RUNNING  \n",
       "2024-10-27 08:28:46.631056+00:00      5      ENDING  \n",
       "2024-10-27 08:28:46.632370+00:00      8        DONE  "
      ]
     },
     "execution_count": 12,
     "metadata": {},
     "output_type": "execute_result"
    }
   ],
   "source": [
    "# Identify blockIds with at least one state_name equals to \"FAILED\"\n",
    "failed_block_ids = df_script_status[df_script_status[\"state_name\"] == \"FAILED\"][\"blockId\"].unique()\n",
    "\n",
    "# Filter out rows with those blockIds\n",
    "df_script_status_filtered = df_script_status[~df_script_status[\"blockId\"].isin(failed_block_ids)]\n",
    "\n",
    "df_script_status_filtered"
   ]
  },
  {
   "cell_type": "markdown",
   "metadata": {},
   "source": [
    "Based on the information above, it seems that this block ran a single script. I know that this block contains several `move_p2p` scripts. \n",
    "\n",
    "Another way of trying to query information about blocks would be using the `BlockParser` class from `summit_utils`. "
   ]
  },
  {
   "cell_type": "code",
   "execution_count": 13,
   "metadata": {
    "execution": {
     "iopub.execute_input": "2024-11-08T18:12:00.621819Z",
     "iopub.status.busy": "2024-11-08T18:12:00.621530Z",
     "iopub.status.idle": "2024-11-08T18:12:01.132033Z",
     "shell.execute_reply": "2024-11-08T18:12:01.131632Z",
     "shell.execute_reply.started": "2024-11-08T18:12:00.621805Z"
    }
   },
   "outputs": [
    {
     "name": "stdout",
     "output_type": "stream",
     "text": [
      "[]\n"
     ]
    }
   ],
   "source": [
    "block_parser = BlockParser(dayObs=20241026)\n",
    "block_numbers = block_parser.getBlockNums()\n",
    "print(block_numbers)"
   ]
  },
  {
   "cell_type": "markdown",
   "metadata": {},
   "source": [
    "However, it seems it is not working. Something might be broked halfway. So let's return to timestamps. \n",
    "\n",
    "The `df_script_status_filtered` is the closest to what I expected. The timestamps associated with the `CONFIGURED` state name can be used to define the beginning of this BLOCK execution. However, it seems unrealistic that this block ends in less than a minute after this BLOCK starts. Since this telemetry is unrealiable, I will use the timestamp recorded in OLE."
   ]
  },
  {
   "cell_type": "code",
   "execution_count": 14,
   "metadata": {
    "execution": {
     "iopub.execute_input": "2024-11-08T18:12:01.230817Z",
     "iopub.status.busy": "2024-11-08T18:12:01.230521Z",
     "iopub.status.idle": "2024-11-08T18:12:01.266748Z",
     "shell.execute_reply": "2024-11-08T18:12:01.266353Z",
     "shell.execute_reply.started": "2024-11-08T18:12:01.230804Z"
    }
   },
   "outputs": [],
   "source": [
    "# This works as I expect - from one of the indexes of the dataframes above\n",
    "start_time = Time(df_script_status_filtered.index[0])\n",
    "\n",
    "# I cannot find the end time information. So I am getting it from OLE.\n",
    "end_time = Time(\"2024-10-27T09:03:18.763994\")"
   ]
  },
  {
   "cell_type": "markdown",
   "metadata": {},
   "source": [
    "Since `block_parser` is not working as expected, I will have to find slew events withing the range above manually."
   ]
  },
  {
   "cell_type": "code",
   "execution_count": 15,
   "metadata": {
    "execution": {
     "iopub.execute_input": "2024-11-08T18:12:02.106922Z",
     "iopub.status.busy": "2024-11-08T18:12:02.106582Z",
     "iopub.status.idle": "2024-11-08T18:12:02.625706Z",
     "shell.execute_reply": "2024-11-08T18:12:02.625266Z",
     "shell.execute_reply.started": "2024-11-08T18:12:02.106908Z"
    }
   },
   "outputs": [
    {
     "data": {
      "text/html": [
       "<pre style=\"margin: 0.1em;\n",
       "padding-left: 0.25em;\n",
       "border-left-style: solid;\n",
       "font-family: var(--jp-code-font-family);\n",
       "font-size: var(--jp-code-font-size);\n",
       "line-height: var(--jp-code-line-height);\n",
       "\"><span style=\"color: var(--jp-warn-color2)\">lsst.summit.utils.tmaUtils</span> <span style=\"color: var(--jp-info-color0)\">INFO</span>: Retrieving mount data for 20241026 from the EFD</pre>"
      ],
      "text/plain": [
       "<IPython.core.display.HTML object>"
      ]
     },
     "metadata": {},
     "output_type": "display_data"
    }
   ],
   "source": [
    "events = event_maker.getEvents(day_obs)"
   ]
  },
  {
   "cell_type": "code",
   "execution_count": 16,
   "metadata": {
    "execution": {
     "iopub.execute_input": "2024-11-08T18:12:02.626290Z",
     "iopub.status.busy": "2024-11-08T18:12:02.626165Z",
     "iopub.status.idle": "2024-11-08T18:12:02.672082Z",
     "shell.execute_reply": "2024-11-08T18:12:02.671723Z",
     "shell.execute_reply.started": "2024-11-08T18:12:02.626278Z"
    }
   },
   "outputs": [
    {
     "name": "stdout",
     "output_type": "stream",
     "text": [
      "Found 17 TMA Slew Events\n"
     ]
    }
   ],
   "source": [
    "# We are working with lists \n",
    "mask_begin = np.array([evt.begin >= start_time for evt in events])\n",
    "mask_end = np.array([evt.end <= end_time for evt in events])\n",
    "mask = mask_begin & mask_end\n",
    "\n",
    "events = np.array(events)\n",
    "filtered_events = events[mask]\n",
    "\n",
    "print(f\"Found {filtered_events.size} TMA Slew Events\")"
   ]
  },
  {
   "cell_type": "markdown",
   "metadata": {
    "execution": {
     "iopub.execute_input": "2024-11-03T03:49:11.487970Z",
     "iopub.status.busy": "2024-11-03T03:49:11.487640Z",
     "iopub.status.idle": "2024-11-03T03:49:11.522969Z",
     "shell.execute_reply": "2024-11-03T03:49:11.522678Z",
     "shell.execute_reply.started": "2024-11-03T03:49:11.487956Z"
    }
   },
   "source": [
    "The cell above shows how, somehow, we are not grabbing all the relevant information from the Script and Scheduler events. Something is missing. Let's keep going. "
   ]
  },
  {
   "cell_type": "code",
   "execution_count": 17,
   "metadata": {
    "execution": {
     "iopub.execute_input": "2024-11-08T18:12:03.098938Z",
     "iopub.status.busy": "2024-11-08T18:12:03.098597Z",
     "iopub.status.idle": "2024-11-08T18:12:04.734367Z",
     "shell.execute_reply": "2024-11-08T18:12:04.733910Z",
     "shell.execute_reply.started": "2024-11-08T18:12:03.098924Z"
    }
   },
   "outputs": [],
   "source": [
    "df_hp_forces = block.get_hp_minmax_forces(efd_client, filtered_events, verbose=False)"
   ]
  },
  {
   "cell_type": "code",
   "execution_count": 18,
   "metadata": {
    "execution": {
     "iopub.execute_input": "2024-11-08T18:12:04.735010Z",
     "iopub.status.busy": "2024-11-08T18:12:04.734877Z",
     "iopub.status.idle": "2024-11-08T18:12:04.776105Z",
     "shell.execute_reply": "2024-11-08T18:12:04.775750Z",
     "shell.execute_reply.started": "2024-11-08T18:12:04.734998Z"
    }
   },
   "outputs": [
    {
     "data": {
      "text/html": [
       "<div>\n",
       "<style scoped>\n",
       "    .dataframe tbody tr th:only-of-type {\n",
       "        vertical-align: middle;\n",
       "    }\n",
       "\n",
       "    .dataframe tbody tr th {\n",
       "        vertical-align: top;\n",
       "    }\n",
       "\n",
       "    .dataframe thead th {\n",
       "        text-align: right;\n",
       "    }\n",
       "</style>\n",
       "<table border=\"1\" class=\"dataframe\">\n",
       "  <thead>\n",
       "    <tr style=\"text-align: right;\">\n",
       "      <th></th>\n",
       "      <th>seq_num</th>\n",
       "      <th>delta_az</th>\n",
       "      <th>delta_el</th>\n",
       "      <th>min_forces</th>\n",
       "      <th>max_forces</th>\n",
       "    </tr>\n",
       "  </thead>\n",
       "  <tbody>\n",
       "    <tr>\n",
       "      <th>0</th>\n",
       "      <td>132</td>\n",
       "      <td>5.223579e-01</td>\n",
       "      <td>2.777878e-07</td>\n",
       "      <td>-37.015701</td>\n",
       "      <td>47.153450</td>\n",
       "    </tr>\n",
       "    <tr>\n",
       "      <th>1</th>\n",
       "      <td>133</td>\n",
       "      <td>1.093094e-07</td>\n",
       "      <td>1.199936e+01</td>\n",
       "      <td>-28.820343</td>\n",
       "      <td>192.332001</td>\n",
       "    </tr>\n",
       "    <tr>\n",
       "      <th>2</th>\n",
       "      <td>134</td>\n",
       "      <td>2.716174e-07</td>\n",
       "      <td>-1.199953e+01</td>\n",
       "      <td>-196.523407</td>\n",
       "      <td>20.624985</td>\n",
       "    </tr>\n",
       "    <tr>\n",
       "      <th>3</th>\n",
       "      <td>135</td>\n",
       "      <td>2.399929e+01</td>\n",
       "      <td>-6.746274e-07</td>\n",
       "      <td>-37.249535</td>\n",
       "      <td>32.542400</td>\n",
       "    </tr>\n",
       "    <tr>\n",
       "      <th>4</th>\n",
       "      <td>136</td>\n",
       "      <td>-2.399961e+01</td>\n",
       "      <td>-3.042437e-07</td>\n",
       "      <td>-27.214087</td>\n",
       "      <td>41.932915</td>\n",
       "    </tr>\n",
       "    <tr>\n",
       "      <th>5</th>\n",
       "      <td>137</td>\n",
       "      <td>4.968611e-07</td>\n",
       "      <td>3.499543e+00</td>\n",
       "      <td>-19.395681</td>\n",
       "      <td>123.917244</td>\n",
       "    </tr>\n",
       "    <tr>\n",
       "      <th>6</th>\n",
       "      <td>138</td>\n",
       "      <td>-1.501624e-07</td>\n",
       "      <td>-3.499490e+00</td>\n",
       "      <td>-98.657898</td>\n",
       "      <td>17.312695</td>\n",
       "    </tr>\n",
       "    <tr>\n",
       "      <th>7</th>\n",
       "      <td>139</td>\n",
       "      <td>3.499415e+00</td>\n",
       "      <td>8.651104e-07</td>\n",
       "      <td>-42.793026</td>\n",
       "      <td>45.825710</td>\n",
       "    </tr>\n",
       "    <tr>\n",
       "      <th>8</th>\n",
       "      <td>140</td>\n",
       "      <td>-3.499553e+00</td>\n",
       "      <td>-6.613994e-07</td>\n",
       "      <td>-32.145470</td>\n",
       "      <td>39.474308</td>\n",
       "    </tr>\n",
       "    <tr>\n",
       "      <th>9</th>\n",
       "      <td>141</td>\n",
       "      <td>8.479694e+00</td>\n",
       "      <td>8.479638e+00</td>\n",
       "      <td>-57.640686</td>\n",
       "      <td>162.856857</td>\n",
       "    </tr>\n",
       "    <tr>\n",
       "      <th>10</th>\n",
       "      <td>142</td>\n",
       "      <td>-8.479757e+00</td>\n",
       "      <td>8.479706e+00</td>\n",
       "      <td>-49.308739</td>\n",
       "      <td>187.329330</td>\n",
       "    </tr>\n",
       "    <tr>\n",
       "      <th>11</th>\n",
       "      <td>143</td>\n",
       "      <td>-8.479665e+00</td>\n",
       "      <td>-8.479708e+00</td>\n",
       "      <td>-198.957138</td>\n",
       "      <td>57.913864</td>\n",
       "    </tr>\n",
       "    <tr>\n",
       "      <th>12</th>\n",
       "      <td>144</td>\n",
       "      <td>8.479665e+00</td>\n",
       "      <td>-8.479622e+00</td>\n",
       "      <td>-163.499100</td>\n",
       "      <td>47.220482</td>\n",
       "    </tr>\n",
       "    <tr>\n",
       "      <th>13</th>\n",
       "      <td>145</td>\n",
       "      <td>2.469731e+00</td>\n",
       "      <td>2.469770e+00</td>\n",
       "      <td>-52.962502</td>\n",
       "      <td>106.729599</td>\n",
       "    </tr>\n",
       "    <tr>\n",
       "      <th>14</th>\n",
       "      <td>146</td>\n",
       "      <td>-2.469640e+00</td>\n",
       "      <td>2.469690e+00</td>\n",
       "      <td>-51.935795</td>\n",
       "      <td>123.241203</td>\n",
       "    </tr>\n",
       "    <tr>\n",
       "      <th>15</th>\n",
       "      <td>147</td>\n",
       "      <td>-2.469556e+00</td>\n",
       "      <td>-2.469514e+00</td>\n",
       "      <td>-115.162582</td>\n",
       "      <td>51.016106</td>\n",
       "    </tr>\n",
       "    <tr>\n",
       "      <th>16</th>\n",
       "      <td>148</td>\n",
       "      <td>2.469666e+00</td>\n",
       "      <td>-2.469621e+00</td>\n",
       "      <td>-122.260956</td>\n",
       "      <td>46.311100</td>\n",
       "    </tr>\n",
       "  </tbody>\n",
       "</table>\n",
       "</div>"
      ],
      "text/plain": [
       "    seq_num      delta_az      delta_el  min_forces  max_forces\n",
       "0       132  5.223579e-01  2.777878e-07  -37.015701   47.153450\n",
       "1       133  1.093094e-07  1.199936e+01  -28.820343  192.332001\n",
       "2       134  2.716174e-07 -1.199953e+01 -196.523407   20.624985\n",
       "3       135  2.399929e+01 -6.746274e-07  -37.249535   32.542400\n",
       "4       136 -2.399961e+01 -3.042437e-07  -27.214087   41.932915\n",
       "5       137  4.968611e-07  3.499543e+00  -19.395681  123.917244\n",
       "6       138 -1.501624e-07 -3.499490e+00  -98.657898   17.312695\n",
       "7       139  3.499415e+00  8.651104e-07  -42.793026   45.825710\n",
       "8       140 -3.499553e+00 -6.613994e-07  -32.145470   39.474308\n",
       "9       141  8.479694e+00  8.479638e+00  -57.640686  162.856857\n",
       "10      142 -8.479757e+00  8.479706e+00  -49.308739  187.329330\n",
       "11      143 -8.479665e+00 -8.479708e+00 -198.957138   57.913864\n",
       "12      144  8.479665e+00 -8.479622e+00 -163.499100   47.220482\n",
       "13      145  2.469731e+00  2.469770e+00  -52.962502  106.729599\n",
       "14      146 -2.469640e+00  2.469690e+00  -51.935795  123.241203\n",
       "15      147 -2.469556e+00 -2.469514e+00 -115.162582   51.016106\n",
       "16      148  2.469666e+00 -2.469621e+00 -122.260956   46.311100"
      ]
     },
     "execution_count": 18,
     "metadata": {},
     "output_type": "execute_result"
    }
   ],
   "source": [
    "df_hp_forces"
   ]
  },
  {
   "cell_type": "markdown",
   "metadata": {},
   "source": [
    "Alright, those values make sense. Now let's plot the histogram. There is not much data. But we should see something. "
   ]
  },
  {
   "cell_type": "code",
   "execution_count": 19,
   "metadata": {
    "execution": {
     "iopub.execute_input": "2024-11-08T18:12:05.109645Z",
     "iopub.status.busy": "2024-11-08T18:12:05.109240Z",
     "iopub.status.idle": "2024-11-08T18:12:05.620205Z",
     "shell.execute_reply": "2024-11-08T18:12:05.619710Z",
     "shell.execute_reply.started": "2024-11-08T18:12:05.109630Z"
    }
   },
   "outputs": [
    {
     "data": {
      "image/png": "[encoded data removed]",
      "text/plain": [
       "<Figure size 1000x500 with 2 Axes>"
      ]
     },
     "metadata": {},
     "output_type": "display_data"
    }
   ],
   "source": [
    "%matplotlib inline \n",
    "block.plot_histogram_hp_minmax_forces(df_hp_forces, day_obs)"
   ]
  },
  {
   "cell_type": "code",
   "execution_count": null,
   "metadata": {},
   "outputs": [],
   "source": []
  }
 ],
 "metadata": {
  "kernelspec": {
   "display_name": "LSST",
   "language": "python",
   "name": "lsst"
  },
  "language_info": {
   "codemirror_mode": {
    "name": "ipython",
    "version": 3
   },
   "file_extension": ".py",
   "mimetype": "text/x-python",
   "name": "python",
   "nbconvert_exporter": "python",
   "pygments_lexer": "ipython3",
   "version": "3.11.9"
  }
 },
 "nbformat": 4,
 "nbformat_minor": 4
}
