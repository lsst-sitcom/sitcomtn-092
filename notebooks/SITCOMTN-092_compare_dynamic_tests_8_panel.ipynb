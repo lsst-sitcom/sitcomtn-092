{
 "cells": [
  {
   "cell_type": "code",
   "execution_count": null,
   "id": "ea06897a-b9ee-422f-b1ce-e2f87d9b00e7",
   "metadata": {},
   "outputs": [],
   "source": [
    "# you may need to checkout the branch tickets/SITCOM-1752 from ts_m1m3_utils\n",
    "from lsst.ts.m1m3.utils.dynamic_test_analysis import load_config, run_single_dynamic_test, create_color_dict, SlewPlotter"
   ]
  },
  {
   "cell_type": "markdown",
   "id": "ddda958c-2309-43f4-a175-a0430420568e",
   "metadata": {},
   "source": [
    "# Configuration\n",
    "Below is a configuration dictionary, for each dynamic test provide begin and end times as well as the block info (label to be used for plotting, I have been doing speed settings plus m1m3 setting e.g `100% GGGG`).\n",
    "A dayObs and seqNum range may be provided instead of timestamps"
   ]
  },
  {
   "cell_type": "code",
   "execution_count": null,
   "id": "b37f88e9-ffd3-4200-8273-30de4c43966a",
   "metadata": {},
   "outputs": [],
   "source": [
    "dynamic_test_info_dict = {\n",
    "    \"20241201_T293_1\": {\n",
    "        \"begin_time\": \"2024-12-02 23:34:11\",\n",
    "        \"end_time\": \"2024-12-02 23:49:52\",\n",
    "        \"block_info\": \"20% GGGG\",\n",
    "        \"block\": \"T293\",\n",
    "        \n",
    "    },\n",
    "    \"20241130_T293_6\":{\n",
    "        \"begin_time\": \"2024-12-01 08:49:07\",\n",
    "        \"end_time\": \"2024-12-01 09:02:06\",\n",
    "        \"block_info\": \"20% GGGR\",\n",
    "        \"block\": \"T293\"\n",
    "    },\n",
    "    \"20241130_T293_4\":{\n",
    "        \"begin_time\": \"2024-11-30 22:49:52\",\n",
    "        \"end_time\": \"2024-11-30 23:03:17\",\n",
    "        \"block_info\": \"20% GGRR\",\n",
    "        \"block\": \"T293\"\n",
    "    },\n",
    "    \"20241205_T293_1\":{\n",
    "        \"begin_time\": \"2024-12-06 08:52:34\",\n",
    "        \"end_time\": \"2024-12-06 09:05:10\",\n",
    "        \"block_info\": \"20% GGGG J=1\",\n",
    "        \"block\": \"T293\"\n",
    "    },\n",
    "     \"20241205_T293_2\":{\n",
    "        \"begin_time\": \"2024-12-06 09:13:08\",\n",
    "        \"end_time\": \"2024-12-06 09:25:10\",\n",
    "        \"block_info\": \"20% GGGG J=1 a=1\",\n",
    "        \"block\": \"T293\"\n",
    "    },\n",
    "}"
   ]
  },
  {
   "cell_type": "markdown",
   "id": "476b2f7a-d018-47b5-87b5-2dc8823463e7",
   "metadata": {},
   "source": [
    "The load config function will provide a default configuration. \n",
    "Additionally, a config_file may be provided as a string to a yaml file with configuration. \n",
    "Finally any kwargs provided will superceed the default or file. \n",
    "Config options and default values:\n",
    "```\n",
    "{'begin_seq_num': None, \n",
    " 'end_seq_num': None,\n",
    " 'begin_time': None,\n",
    " 'end_time': None,\n",
    " 'day_obs': None,\n",
    " 'block_info': None,\n",
    " 'block': None,\n",
    " 'tmax': None,\n",
    " 'tmin': None,\n",
    " 'exclude_list': [],\n",
    " 'data_dir': './data/',\n",
    " 'plot_dir': './plots/',\n",
    " 'save_data': True,\n",
    " 'make_plots': True,\n",
    " 'hp_col_keys': [],\n",
    " 'act_groups': ['all',\n",
    "  'quadrant_1',\n",
    "  'quadrant_2',\n",
    "  'quadrant_3',\n",
    "  'quadrant_4',\n",
    "  'orientation_Y_PLUS',\n",
    "  'orientation_Y_MINUS',\n",
    "  'orientation_X_PLUS',\n",
    "  'orientation_X_MINUS'],\n",
    " 'act_types': ['primary', 'secondary'],\n",
    " 'fa_col_keys': []}\n",
    "```"
   ]
  },
  {
   "cell_type": "markdown",
   "id": "312257b7-49ba-46b8-9c89-08ff3ae2c0d3",
   "metadata": {},
   "source": [
    "# Retrieving all of the data\n",
    "The `run_single_dynamic_test` takes the config as kwargs and returns:\n",
    "- a dataframe with stats on each slew including the slew state.\n",
    "- a dataframe with hardpoint telemetry for each slew\n",
    "- a dataframe with forceactuator following errors for each slew\n",
    "\n",
    "if `save_data=True` these dataframes will be saved in the `data_dir`.\n",
    "if `make_plots=True` single test plots will be made for every column in hp_col_keys and fa_col_keys (there is some automatic population of fa_col_keys in the config)\n",
    "\n",
    "\n",
    "stats_frame columns:\n",
    "`'seq_num', 'el_start', 'el_end', 'el_distance', 'az_start', 'az_end','az_distance', 'total_distance', 'max_hp_force', 'min_hp_force', 'max_fa_following_error', 'min_fa_following_error', 'day_obs', 'block','block_info', 'state'`\n",
    "The other data_frames columns will list out at the end of this notebook"
   ]
  },
  {
   "cell_type": "code",
   "execution_count": null,
   "id": "47aa3dbe-5085-4ac1-9639-7e7e4ae87518",
   "metadata": {},
   "outputs": [],
   "source": [
    "dynamic_test_data_dict = {}\n",
    "for test in dynamic_test_info_dict:\n",
    "    config = load_config(**dynamic_test_info_dict[test], save_data=False, make_plots=False)\n",
    "    stats_frame, hp_forces_df, fa_following_errors_df = await run_single_dynamic_test(**config)\n",
    "    dynamic_test_data_dict[test]={}\n",
    "    dynamic_test_data_dict[test][\"stats_frame\"] = stats_frame\n",
    "    dynamic_test_data_dict[test][\"hp_forces_df\"] = hp_forces_df\n",
    "    dynamic_test_data_dict[test][\"fa_following_errors_df\"] = fa_following_errors_df\n",
    "\n",
    "# if you get an asyncio error, in a notebook, try running again"
   ]
  },
  {
   "cell_type": "markdown",
   "id": "54427a0f-8c2e-42f1-9530-67008ee0d89b",
   "metadata": {},
   "source": [
    "# Options for plotting \n",
    "## Hardpoint Forces:\n",
    "- `'measuredForce0'`\n",
    "- `'measuredForce1'`\n",
    "- `'measuredForce2'`\n",
    "- `'measuredForce3'`\n",
    "- `'measuredForce4'`\n",
    "- `'measuredForce5'`\n",
    "- `'fx'`\n",
    "- `'fy'`\n",
    "- `'fz'`\n",
    "- `'mx'`\n",
    "- `'my'`\n",
    "- `'mz'`\n",
    "## Force Actuator Following Errors\n",
    "- Any of the primary/secondary following errors (e.g. `'primaryCylinderFollowingError27'` or `'secondaryCylinderFollowingError106'` )\n",
    "\n",
    "\n",
    "### stats computed on groups of force actuators:\n",
    "The naming format is `'{group}_{act_type}_{stat}`'\n",
    "\n",
    "- extrema (max will plot max & min): `'all_primary_max_val'`\n",
    "\n",
    "- median + 1 sigma confidence interval: `'all_primary_median_val'`\n",
    "\n",
    "- abs(max): `'all_primary_absmax_val'`\n",
    "\n",
    "- std: `'all_primary_std_val'`\n",
    "\n",
    "### groups that have been split out:\n",
    "\n",
    "- All actuators: `'all_primary_max_val'`\n",
    "- Orientation `[\"X_PLUS\",\"X_MINUS\", \"Y_PLUS\",\"Y_MINUS\"]`: `'orientation_X_MINUS_primary_max_val'`\n",
    "- Quadrant \\[1,2,3,4\\]: `''quadrant_1_secondary_max_val'`'\n"
   ]
  },
  {
   "cell_type": "markdown",
   "id": "d71eb175-1ac7-489e-8de4-ad8d24552dfe",
   "metadata": {},
   "source": [
    "# Comparing dynamic tests\n",
    "The SlewPlotter class will return an 8 panel plot that groups each of the slews by type (so they should have similar profiles) and aligns the slews from the slew start or slew stop (again to facilitate comparison) "
   ]
  },
  {
   "cell_type": "code",
   "execution_count": null,
   "id": "82dc7660-5f9a-4e80-9d0c-8aca450b3a31",
   "metadata": {
    "scrolled": true
   },
   "outputs": [],
   "source": [
    "color_dict = create_color_dict(dynamic_test_info_dict.keys(), 'tab10')\n",
    "plot_dir = None # switch to a directory to save plots\n",
    "sp=SlewPlotter(plot_dir=plot_dir)\n",
    "for col in ['all_primary_max_val','all_primary_median_val']:#,'all_primary_absmax_val','all_primary_std_val']:\n",
    "    fig=sp.multi_test_plot(\n",
    "        col_key=col,\n",
    "        dynamic_test_data_dict=dynamic_test_data_dict, \n",
    "        dynamic_test_info_dict=dynamic_test_info_dict,\n",
    "        color_dict=color_dict,\n",
    "        time_align=\"stop\",\n",
    "        duration=6,\n",
    "        # xmin=-0.2,\n",
    "        # xmax=0,\n",
    "    )\n",
    "    fig"
   ]
  },
  {
   "cell_type": "code",
   "execution_count": null,
   "id": "168d63ba-0a99-4ef6-aed9-81665278e62b",
   "metadata": {},
   "outputs": [],
   "source": [
    "for i in range(1,5):\n",
    "    for col in [f'quadrant_{i}_primary_absmax_val']:\n",
    "        fig=sp.multi_test_plot(\n",
    "            col_key=col,\n",
    "            dynamic_test_data_dict=dynamic_test_data_dict, \n",
    "            dynamic_test_info_dict=dynamic_test_info_dict,\n",
    "            color_dict=color_dict,\n",
    "            time_align=\"start\",\n",
    "            duration=1,\n",
    "            # xmin=0,\n",
    "            # xmax=1.1,\n",
    "        )\n",
    "        fig"
   ]
  },
  {
   "cell_type": "code",
   "execution_count": null,
   "id": "ab18ebb5-8455-4b99-b2ec-de9272915edb",
   "metadata": {
    "scrolled": true
   },
   "outputs": [],
   "source": [
    "orientation=[\"X_PLUS\",\"X_MINUS\", \"Y_PLUS\",\"Y_MINUS\"]\n",
    "for j in orientation:\n",
    "    for col in [f'orientation_{j}_primary_absmax_val']:\n",
    "        fig=sp.multi_test_plot(\n",
    "            col_key=col,\n",
    "            dynamic_test_data_dict=dynamic_test_data_dict, \n",
    "            dynamic_test_info_dict=dynamic_test_info_dict,\n",
    "            color_dict=color_dict,\n",
    "            time_align=\"start\",\n",
    "            duration=1,\n",
    "            # xmin=0,\n",
    "            # xmax=1.1,\n",
    "        )\n",
    "        fig"
   ]
  },
  {
   "cell_type": "markdown",
   "id": "0bdf9671-2f99-40d7-baae-f08b97f8d678",
   "metadata": {},
   "source": [
    "# Plot slews for a single dynamic test\n",
    "Also loading a config from a yaml file"
   ]
  },
  {
   "cell_type": "code",
   "execution_count": null,
   "id": "68c877bf-3a24-42b4-a612-9dded129ab39",
   "metadata": {},
   "outputs": [],
   "source": [
    "config_file = \"./dynamical_test_configs/20241201_T293_1.yaml\"\n",
    "config = load_config(config_file=config_file, save_data=False, make_plots=False)"
   ]
  },
  {
   "cell_type": "code",
   "execution_count": null,
   "id": "e96eb679-3ca1-4030-a335-342fa71a99b8",
   "metadata": {},
   "outputs": [],
   "source": [
    "stats_frame, hp_forces_df, fa_following_errors_df = await run_single_dynamic_test(**config)"
   ]
  },
  {
   "cell_type": "code",
   "execution_count": null,
   "id": "6e0a70cc-fa02-4a2c-a439-f52fae517516",
   "metadata": {},
   "outputs": [],
   "source": [
    "test = \"20241205_T293_1\"\n",
    "plot_dir = None # switch to a directory to save plots\n",
    "sp=SlewPlotter(plot_dir=plot_dir)\n",
    "fig=sp.single_test_plot(\n",
    "    col_key='all_secondary_absmax_val',\n",
    "    stats_frame=stats_frame,\n",
    "    hp_forces_df=hp_forces_df, \n",
    "    fa_following_errors_df = fa_following_errors_df,\n",
    "    time_align=\"start\",\n",
    "    duration=1,\n",
    "    block=\"T293\",\n",
    "    block_info=\"\",\n",
    "    xmin=None,\n",
    "    xmax=None,\n",
    "    day_obs=None,\n",
    ")\n",
    "if plot_dir is not None:\n",
    "    fig"
   ]
  },
  {
   "cell_type": "markdown",
   "id": "ba38364a-b778-4688-b1f0-d9769a397514",
   "metadata": {
    "execution": {
     "iopub.execute_input": "2024-12-06T14:35:48.355034Z",
     "iopub.status.busy": "2024-12-06T14:35:48.354577Z",
     "iopub.status.idle": "2024-12-06T14:35:48.356935Z",
     "shell.execute_reply": "2024-12-06T14:35:48.356608Z",
     "shell.execute_reply.started": "2024-12-06T14:35:48.355018Z"
    }
   },
   "source": [
    "# List out all columns"
   ]
  },
  {
   "cell_type": "code",
   "execution_count": null,
   "id": "835479c0-13b6-4146-a885-7c6c515cf7ae",
   "metadata": {},
   "outputs": [],
   "source": [
    "dynamic_test_data_dict[test][\"hp_forces_df\"].columns.values"
   ]
  },
  {
   "cell_type": "code",
   "execution_count": null,
   "id": "fb524480-cc18-4dde-8240-dc35f1e84666",
   "metadata": {},
   "outputs": [],
   "source": [
    "dynamic_test_data_dict[test][\"fa_following_errors_df\"].columns.values"
   ]
  },
  {
   "cell_type": "code",
   "execution_count": null,
   "id": "3998e426-d426-4dfe-8698-6e687cfc0b60",
   "metadata": {},
   "outputs": [],
   "source": []
  }
 ],
 "metadata": {
  "kernelspec": {
   "display_name": "LSST",
   "language": "python",
   "name": "lsst"
  },
  "language_info": {
   "codemirror_mode": {
    "name": "ipython",
    "version": 3
   },
   "file_extension": ".py",
   "mimetype": "text/x-python",
   "name": "python",
   "nbconvert_exporter": "python",
   "pygments_lexer": "ipython3",
   "version": "3.11.9"
  }
 },
 "nbformat": 4,
 "nbformat_minor": 5
}
